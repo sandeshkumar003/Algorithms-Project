{
  "nbformat": 4,
  "nbformat_minor": 0,
  "metadata": {
    "colab": {
      "provenance": [],
      "include_colab_link": true
    },
    "kernelspec": {
      "name": "python3",
      "display_name": "Python 3"
    },
    "language_info": {
      "name": "python"
    }
  },
  "cells": [
    {
      "cell_type": "markdown",
      "metadata": {
        "id": "view-in-github",
        "colab_type": "text"
      },
      "source": [
        "<a href=\"https://colab.research.google.com/github/sandeshkumar003/Algorithms-Project/blob/main/DeepLearningFall2024/Code/Lab10_Explained_Notebook.ipynb\" target=\"_parent\"><img src=\"https://colab.research.google.com/assets/colab-badge.svg\" alt=\"Open In Colab\"/></a>"
      ]
    },
    {
      "cell_type": "markdown",
      "source": [
        "# **Notebook 10.2: Convolution for MNIST-1D**\n",
        "\n",
        "This notebook investigates a 1D convolutional network for MNIST-1D\n",
        "\n",
        "<center>\n",
        "\n",
        "![Google Drive Image](https://drive.google.com/uc?export=view&id=1Jkp_zo7-EI9UvR2WMIO0PwckiRFmfi6F)\n",
        "Figure: 1\n",
        "</center>\n",
        "\n",
        "<center>\n",
        "\n",
        "![Google Drive Image](https://drive.google.com/uc?export=view&id=17bHo3pNYS-ea-g56MIGx35AV96vWcqBq)\n",
        "Figure: 2\n",
        "</center>\n",
        "\n",
        "\n"
      ],
      "metadata": {
        "id": "t9vk9Elugvmi"
      }
    },
    {
      "cell_type": "code",
      "source": [
        "# Run this if you're in a Colab to install MNIST 1D repository\n",
        "!pip install git+https://github.com/greydanus/mnist1d"
      ],
      "metadata": {
        "id": "D5yLObtZCi9J",
        "colab": {
          "base_uri": "https://localhost:8080/"
        },
        "outputId": "6f796199-d50b-4391-851a-8d2b9b36b954",
        "collapsed": true
      },
      "execution_count": null,
      "outputs": [
        {
          "output_type": "stream",
          "name": "stdout",
          "text": [
            "Collecting git+https://github.com/greydanus/mnist1d\n",
            "  Cloning https://github.com/greydanus/mnist1d to /tmp/pip-req-build-9gr0d85g\n",
            "  Running command git clone --filter=blob:none --quiet https://github.com/greydanus/mnist1d /tmp/pip-req-build-9gr0d85g\n",
            "  Resolved https://github.com/greydanus/mnist1d to commit 7878d96082abd200c546a07a4101fa90b30fdf7e\n",
            "  Installing build dependencies ... \u001b[?25l\u001b[?25hdone\n",
            "  Getting requirements to build wheel ... \u001b[?25l\u001b[?25hdone\n",
            "  Preparing metadata (pyproject.toml) ... \u001b[?25l\u001b[?25hdone\n",
            "Requirement already satisfied: requests in /usr/local/lib/python3.10/dist-packages (from mnist1d==0.0.2.post16) (2.32.3)\n",
            "Requirement already satisfied: numpy in /usr/local/lib/python3.10/dist-packages (from mnist1d==0.0.2.post16) (1.26.4)\n",
            "Requirement already satisfied: matplotlib in /usr/local/lib/python3.10/dist-packages (from mnist1d==0.0.2.post16) (3.7.1)\n",
            "Requirement already satisfied: scipy in /usr/local/lib/python3.10/dist-packages (from mnist1d==0.0.2.post16) (1.13.1)\n",
            "Requirement already satisfied: contourpy>=1.0.1 in /usr/local/lib/python3.10/dist-packages (from matplotlib->mnist1d==0.0.2.post16) (1.3.0)\n",
            "Requirement already satisfied: cycler>=0.10 in /usr/local/lib/python3.10/dist-packages (from matplotlib->mnist1d==0.0.2.post16) (0.12.1)\n",
            "Requirement already satisfied: fonttools>=4.22.0 in /usr/local/lib/python3.10/dist-packages (from matplotlib->mnist1d==0.0.2.post16) (4.54.1)\n",
            "Requirement already satisfied: kiwisolver>=1.0.1 in /usr/local/lib/python3.10/dist-packages (from matplotlib->mnist1d==0.0.2.post16) (1.4.7)\n",
            "Requirement already satisfied: packaging>=20.0 in /usr/local/lib/python3.10/dist-packages (from matplotlib->mnist1d==0.0.2.post16) (24.1)\n",
            "Requirement already satisfied: pillow>=6.2.0 in /usr/local/lib/python3.10/dist-packages (from matplotlib->mnist1d==0.0.2.post16) (10.4.0)\n",
            "Requirement already satisfied: pyparsing>=2.3.1 in /usr/local/lib/python3.10/dist-packages (from matplotlib->mnist1d==0.0.2.post16) (3.2.0)\n",
            "Requirement already satisfied: python-dateutil>=2.7 in /usr/local/lib/python3.10/dist-packages (from matplotlib->mnist1d==0.0.2.post16) (2.8.2)\n",
            "Requirement already satisfied: charset-normalizer<4,>=2 in /usr/local/lib/python3.10/dist-packages (from requests->mnist1d==0.0.2.post16) (3.4.0)\n",
            "Requirement already satisfied: idna<4,>=2.5 in /usr/local/lib/python3.10/dist-packages (from requests->mnist1d==0.0.2.post16) (3.10)\n",
            "Requirement already satisfied: urllib3<3,>=1.21.1 in /usr/local/lib/python3.10/dist-packages (from requests->mnist1d==0.0.2.post16) (2.2.3)\n",
            "Requirement already satisfied: certifi>=2017.4.17 in /usr/local/lib/python3.10/dist-packages (from requests->mnist1d==0.0.2.post16) (2024.8.30)\n",
            "Requirement already satisfied: six>=1.5 in /usr/local/lib/python3.10/dist-packages (from python-dateutil>=2.7->matplotlib->mnist1d==0.0.2.post16) (1.16.0)\n",
            "Building wheels for collected packages: mnist1d\n",
            "  Building wheel for mnist1d (pyproject.toml) ... \u001b[?25l\u001b[?25hdone\n",
            "  Created wheel for mnist1d: filename=mnist1d-0.0.2.post16-py3-none-any.whl size=14625 sha256=1afc0e345314ccc2c2ed62649d55e61cb15a44c3ba2f62c8187efd2ad6b37f4e\n",
            "  Stored in directory: /tmp/pip-ephem-wheel-cache-kg2wydf9/wheels/41/95/55/45fcf7d38cfa97e35682da6c5017d4513729131326ce935371\n",
            "Successfully built mnist1d\n",
            "Installing collected packages: mnist1d\n",
            "Successfully installed mnist1d-0.0.2.post16\n"
          ]
        }
      ]
    },
    {
      "cell_type": "code",
      "source": [
        "import numpy as np\n",
        "import os\n",
        "import torch, torch.nn as nn\n",
        "from torch.utils.data import TensorDataset, DataLoader\n",
        "from torch.optim.lr_scheduler import StepLR\n",
        "import matplotlib.pyplot as plt\n",
        "import mnist1d\n",
        "import random"
      ],
      "metadata": {
        "id": "YrXWAH7sUWvU"
      },
      "execution_count": null,
      "outputs": []
    },
    {
      "cell_type": "code",
      "source": [
        "args = mnist1d.data.get_dataset_args()\n",
        "data = mnist1d.data.get_dataset(args, path='./mnist1d_data.pkl', download=False, regenerate=False)\n",
        "\n",
        "print(data.keys())\n",
        "print(data['y'][0])\n",
        "# The training and test input and outputs are in\n",
        " #data['x'], data['y'], data['x_test'], and data['y_test']\n",
        "print(\"Examples in training set: {}\".format(len(data['y'])))\n",
        "print(\"Examples in test set: {}\".format(len(data['y_test'])))\n",
        "print(\"Length of each example: {}\".format(data['x'].shape[-1]))"
      ],
      "metadata": {
        "id": "twI72ZCrCt5z",
        "colab": {
          "base_uri": "https://localhost:8080/"
        },
        "outputId": "4eea4724-1097-4166-98c8-33685113cacd"
      },
      "execution_count": null,
      "outputs": [
        {
          "output_type": "stream",
          "name": "stdout",
          "text": [
            "Successfully loaded data from ./mnist1d_data.pkl\n",
            "dict_keys(['x', 'x_test', 'y', 'y_test', 't', 'templates'])\n",
            "2\n",
            "Examples in training set: 4000\n",
            "Examples in test set: 1000\n",
            "Length of each example: 40\n"
          ]
        }
      ]
    },
    {
      "cell_type": "code",
      "source": [
        "data['y'].shape"
      ],
      "metadata": {
        "colab": {
          "base_uri": "https://localhost:8080/"
        },
        "id": "jtj3UUuUeNoK",
        "outputId": "0dac2f9e-7742-4274-d042-440c406333f4"
      },
      "execution_count": null,
      "outputs": [
        {
          "output_type": "execute_result",
          "data": {
            "text/plain": [
              "(4000,)"
            ]
          },
          "metadata": {},
          "execution_count": 24
        }
      ]
    },
    {
      "cell_type": "code",
      "source": [
        "# Load in the data\n",
        "train_data_x = data['x'].transpose()\n",
        "#convert it to 40*4000\n",
        "train_data_y = data['y']\n",
        "val_data_x = data['x_test'].transpose()\n",
        "val_data_y = data['y_test']\n",
        "# Print out sizes\n",
        "print(\"Train data: %d examples (columns), each of which has %d dimensions (rows)\"%((train_data_x.shape[1],train_data_x.shape[0])))\n",
        "print(\"Validation data: %d examples (columns), each of which has %d dimensions (rows)\"%((val_data_x.shape[1],val_data_x.shape[0])))"
      ],
      "metadata": {
        "id": "8bKADvLHbiV5",
        "colab": {
          "base_uri": "https://localhost:8080/"
        },
        "outputId": "4b68fb0d-dc09-4ffc-80d4-d769729ab777"
      },
      "execution_count": null,
      "outputs": [
        {
          "output_type": "stream",
          "name": "stdout",
          "text": [
            "Train data: 4000 examples (columns), each of which has 40 dimensions (rows)\n",
            "Validation data: 1000 examples (columns), each of which has 40 dimensions (rows)\n"
          ]
        }
      ]
    },
    {
      "cell_type": "markdown",
      "source": [
        "Define the network"
      ],
      "metadata": {
        "id": "_sFvRDGrl4qe"
      }
    },
    {
      "cell_type": "markdown",
      "source": [
        "# Input data For Sequences (1D Data):\n",
        "##e.g. nn.Conv1d\n",
        "Shape: (batch_size, channels, length)\n",
        "\n",
        "\n",
        "* $batch size$: Number of sequences in one batch.\n",
        "* $channels$: Number of input channels (e.g., 1 for a single-channel time series).\n",
        "* $length$: Sequence length (e.g., time steps, word count)."
      ],
      "metadata": {
        "id": "aSRyl1AP4FSj"
      }
    },
    {
      "cell_type": "code",
      "source": [
        "\n",
        "\n",
        "# Example: 1D Convolutional Layer with 1 input channel, 16 output channels, and kernel size 3\n",
        "conv1d_layer = nn.Conv1d(in_channels=1, out_channels=5, kernel_size=5, stride=1, padding=0)\n",
        "\n",
        "# Example input: A batch of size 1, with 1 channel and sequence length 10\n",
        "\n",
        "input_data = torch.randn(2, 1, 10)\n",
        "\n",
        "# Pass the input through the convolutional layer\n",
        "output = conv1d_layer(input_data)\n",
        "\n",
        "print(output.shape)  # Output shape will be (batch_size, out_channels, output_length)\n"
      ],
      "metadata": {
        "colab": {
          "base_uri": "https://localhost:8080/"
        },
        "id": "oXiRM0rHipBZ",
        "outputId": "b2d844e9-a25e-4014-c573-8573a4a9b5ce"
      },
      "execution_count": null,
      "outputs": [
        {
          "output_type": "stream",
          "name": "stdout",
          "text": [
            "torch.Size([2, 5, 6])\n"
          ]
        }
      ]
    },
    {
      "cell_type": "code",
      "source": [
        "# There are 40 input dimensions and 10 output dimensions for this data\n",
        "# The inputs correspond to the 40 offsets in the MNIST1D template.\n",
        "D_i = 40\n",
        "# The outputs correspond to the 10 digits\n",
        "D_o = 10\n",
        "\n",
        "\n",
        "# Create a model with the following layers\n",
        "# 1. Convolutional layer, (input=length 40 and 1 channel, kernel size 3, stride 2, padding=\"valid\", 15 output channels )\n",
        "# 2. ReLU\n",
        "# 3. Convolutional layer, (input=length 19 and 15 channels, kernel size 3, stride 2, padding=\"valid\", 15 output channels )\n",
        "# 4. ReLU\n",
        "# 5. Convolutional layer, (input=length 9 and 15 channels, kernel size 3, stride 2, padding=\"valid\", 15 output channels)\n",
        "# 6. ReLU\n",
        "# 7. Flatten (converts 4x15) to length 60\n",
        "# 8. Linear layer (input size = 60, output size = 10)\n",
        "model = nn.Sequential(\n",
        "    #1.  1st Convolutional layer: input length 40, 1 channel, kernel size 3, stride 2, padding valid (no padding), 15 output channels\n",
        "    nn.Conv1d(in_channels=1, out_channels=15, kernel_size=3, stride=2, padding=0),\n",
        "    #2. Apply RELU to it\n",
        "    nn.ReLU(),\n",
        "\n",
        "    #3.  2nd Convolutional layer: input length 19, 15 channels, kernel size 3, stride 2, padding valid, 15 output channels\n",
        "    nn.Conv1d(in_channels=15, out_channels=15, kernel_size=3, stride=2, padding=0),\n",
        "\n",
        "    #4. Apply RELU to it\n",
        "    nn.ReLU(),\n",
        "\n",
        "    #5.  3rd Convolutional layer: input length 9, 15 channels, kernel size 3, stride 2, padding valid, 15 output channels\n",
        "    nn.Conv1d(in_channels=15, out_channels=15, kernel_size=3, stride=2, padding=0),\n",
        "    #6. Apply RELU to it\n",
        "    nn.ReLU(),\n",
        "\n",
        "    #7. Flatten layer: converts output to size (batch_size, 60)\n",
        "    nn.Flatten(),\n",
        "\n",
        "    #8. Fully connected layer: input size 60, output size 10\n",
        "    nn.Linear(60, D_o)\n",
        ")\n",
        "\n",
        "\n",
        "\n"
      ],
      "metadata": {
        "id": "FslroPJJffrh"
      },
      "execution_count": null,
      "outputs": []
    },
    {
      "cell_type": "code",
      "source": [
        "# Print the model architecture\n",
        "print(model)"
      ],
      "metadata": {
        "colab": {
          "base_uri": "https://localhost:8080/"
        },
        "id": "cjhydA91gD1d",
        "outputId": "714febe2-716f-4ee0-e5e0-cb8f432cba19"
      },
      "execution_count": null,
      "outputs": [
        {
          "output_type": "stream",
          "name": "stdout",
          "text": [
            "Sequential(\n",
            "  (0): Conv1d(1, 15, kernel_size=(3,), stride=(2,))\n",
            "  (1): ReLU()\n",
            "  (2): Conv1d(15, 15, kernel_size=(3,), stride=(2,))\n",
            "  (3): ReLU()\n",
            "  (4): Conv1d(15, 15, kernel_size=(3,), stride=(2,))\n",
            "  (5): ReLU()\n",
            "  (6): Flatten(start_dim=1, end_dim=-1)\n",
            "  (7): Linear(in_features=60, out_features=10, bias=True)\n",
            ")\n"
          ]
        }
      ]
    },
    {
      "cell_type": "code",
      "source": [
        "\n",
        "\n",
        "# Example usage: testing with a random input\n",
        "x = torch.randn(16, 40)  # 16 samples, each with 40 input dimensions\n",
        "x = x.unsqueeze(1)  # Reshape to add channel dimension (batch_size, 1, 40)\n",
        "output = model(x)\n",
        "print(output.shape)  # Output shape will be (16, 10)"
      ],
      "metadata": {
        "colab": {
          "base_uri": "https://localhost:8080/"
        },
        "id": "zlVuq6z8esGv",
        "outputId": "87eb405c-ceca-4b8e-8652-3edb02ce9526"
      },
      "execution_count": null,
      "outputs": [
        {
          "output_type": "stream",
          "name": "stdout",
          "text": [
            "torch.Size([16, 10])\n"
          ]
        }
      ]
    },
    {
      "cell_type": "code",
      "source": [
        "# He initialization of weights\n",
        "def weights_init(layer_in):\n",
        "  if isinstance(layer_in, nn.Linear):\n",
        "    nn.init.kaiming_uniform_(layer_in.weight)\n",
        "    layer_in.bias.data.fill_(0.0)"
      ],
      "metadata": {
        "id": "YgLaex1pfhqz"
      },
      "execution_count": null,
      "outputs": []
    },
    {
      "cell_type": "code",
      "source": [
        "\n",
        "# choose cross entropy loss function (equation 5.24 in the loss notes)\n",
        "loss_function = nn.CrossEntropyLoss()\n",
        "# construct SGD optimizer and initialize learning rate and momentum\n",
        "optimizer = torch.optim.SGD(model.parameters(), lr = 0.05, momentum=0.9)\n",
        "# object that decreases learning rate by half every 20 epochs\n",
        "scheduler = StepLR(optimizer, step_size=20, gamma=0.5)\n",
        "# create 100 dummy data points and store in data loader class\n",
        "x_train = torch.tensor(train_data_x.transpose().astype('float32'))\n",
        "y_train = torch.tensor(train_data_y.astype('long')).long()\n",
        "x_val= torch.tensor(val_data_x.transpose().astype('float32'))\n",
        "y_val = torch.tensor(val_data_y.astype('long')).long()"
      ],
      "metadata": {
        "id": "3rsUb9MW89Vp"
      },
      "execution_count": null,
      "outputs": []
    },
    {
      "cell_type": "code",
      "source": [
        "\n",
        "# Sample data\n",
        "x_train_ = torch.tensor([[1.0, 2.0], [3.0, 4.0], [5.0, 6.0], [3.0, 4.0], [5.0, 6.0]])\n",
        "y_train_ = torch.tensor([0, 1, 0, 2, 5])\n",
        "\n",
        "# Create a TensorDataset\n",
        "dataset_ = TensorDataset(x_train_, y_train_)\n",
        "\n",
        "# Create a DataLoader\n",
        "dataloader_ = DataLoader(dataset_, batch_size=2, shuffle=True)\n",
        "\n",
        "# Iterate through the DataLoader\n",
        "for batch_x_, batch_y_ in dataloader_:\n",
        "    print(batch_x_, batch_y_)\n"
      ],
      "metadata": {
        "colab": {
          "base_uri": "https://localhost:8080/"
        },
        "id": "WFLC1-3s89Ht",
        "outputId": "959765fc-f594-44bb-c4df-7da437e17f60"
      },
      "execution_count": null,
      "outputs": [
        {
          "output_type": "stream",
          "name": "stdout",
          "text": [
            "tensor([[1., 2.],\n",
            "        [3., 4.]]) tensor([0, 2])\n",
            "tensor([[5., 6.],\n",
            "        [3., 4.]]) tensor([0, 1])\n",
            "tensor([[5., 6.]]) tensor([5])\n"
          ]
        }
      ]
    },
    {
      "cell_type": "code",
      "source": [
        "\n",
        "# load the data into a class that creates the batches\n",
        "data_loader = DataLoader(TensorDataset(x_train,y_train), batch_size=100, shuffle=True, worker_init_fn=np.random.seed(1))\n"
      ],
      "metadata": {
        "id": "XKXMScNw_i_w"
      },
      "execution_count": null,
      "outputs": []
    },
    {
      "cell_type": "code",
      "source": [
        "# Initialize model weights\n",
        "model.apply(weights_init)\n"
      ],
      "metadata": {
        "colab": {
          "base_uri": "https://localhost:8080/"
        },
        "id": "oUJBPUqV_n9d",
        "outputId": "13253e54-5c3c-4ca4-d63b-838f75ea7f2b"
      },
      "execution_count": null,
      "outputs": [
        {
          "output_type": "execute_result",
          "data": {
            "text/plain": [
              "Sequential(\n",
              "  (0): Conv1d(1, 15, kernel_size=(3,), stride=(2,))\n",
              "  (1): ReLU()\n",
              "  (2): Conv1d(15, 15, kernel_size=(3,), stride=(2,))\n",
              "  (3): ReLU()\n",
              "  (4): Conv1d(15, 15, kernel_size=(3,), stride=(2,))\n",
              "  (5): ReLU()\n",
              "  (6): Flatten(start_dim=1, end_dim=-1)\n",
              "  (7): Linear(in_features=60, out_features=10, bias=True)\n",
              ")"
            ]
          },
          "metadata": {},
          "execution_count": 27
        }
      ]
    },
    {
      "cell_type": "code",
      "source": [
        "# loop over the dataset n_epoch times\n",
        "n_epoch = 100\n",
        "# store the loss and the % correct at each epoch\n",
        "losses_train = np.zeros((n_epoch))\n",
        "errors_train = np.zeros((n_epoch))\n",
        "losses_val = np.zeros((n_epoch))\n",
        "errors_val = np.zeros((n_epoch))\n",
        "\n",
        "for epoch in range(n_epoch):\n",
        "  # loop over batches\n",
        "  for i, data in enumerate(data_loader):\n",
        "    # retrieve inputs and labels for this batch\n",
        "    x_batch, y_batch = data\n",
        "    # zero the parameter gradients\n",
        "    optimizer.zero_grad()\n",
        "    # forward pass -- calculate model output\n",
        "    pred = model(x_batch[:,None,:])\n",
        "    # compute the loss\n",
        "    loss = loss_function(pred, y_batch)\n",
        "    # backward pass\n",
        "    loss.backward()\n",
        "    # SGD update\n",
        "    optimizer.step()\n",
        "\n",
        "  # Run whole dataset to get statistics -- normally wouldn't do this\n",
        "  pred_train = model(x_train[:,None,:])\n",
        "  pred_val = model(x_val[:,None,:])\n",
        "  _, predicted_train_class = torch.max(pred_train.data, 1)\n",
        "  _, predicted_val_class = torch.max(pred_val.data, 1)\n",
        "  errors_train[epoch] = 100 - 100 * (predicted_train_class == y_train).float().sum() / len(y_train)\n",
        "  errors_val[epoch]= 100 - 100 * (predicted_val_class == y_val).float().sum() / len(y_val)\n",
        "  losses_train[epoch] = loss_function(pred_train, y_train).item()\n",
        "  losses_val[epoch]= loss_function(pred_val, y_val).item()\n",
        "  print(f'Epoch {epoch:5d}, train loss {losses_train[epoch]:.6f}, train error {errors_train[epoch]:3.2f},  val loss {losses_val[epoch]:.6f}, percent error {errors_val[epoch]:3.2f}')\n",
        "\n",
        "  # tell scheduler to consider updating learning rate\n",
        "  scheduler.step()\n",
        "\n",
        "# Plot the results\n",
        "fig, ax = plt.subplots()\n",
        "ax.plot(errors_train,'r-',label='train')\n",
        "ax.plot(errors_val,'b-',label='validation')\n",
        "ax.set_ylim(0,100); ax.set_xlim(0,n_epoch)\n",
        "ax.set_xlabel('Epoch'); ax.set_ylabel('Error')\n",
        "ax.set_title('Part I: Validation Result %3.2f'%(errors_val[-1]))\n",
        "ax.legend()\n",
        "plt.show()"
      ],
      "metadata": {
        "id": "NYw8I_3mmX5c",
        "colab": {
          "base_uri": "https://localhost:8080/",
          "height": 1000
        },
        "outputId": "1f9f9888-47f0-4d84-86ad-1f5fdd46ddf7"
      },
      "execution_count": null,
      "outputs": [
        {
          "output_type": "stream",
          "name": "stdout",
          "text": [
            "Epoch     0, train loss 1.974578, train error 76.68,  val loss 1.976721, percent error 77.50\n",
            "Epoch     1, train loss 1.544113, train error 61.08,  val loss 1.556077, percent error 63.60\n",
            "Epoch     2, train loss 1.351562, train error 53.30,  val loss 1.347399, percent error 57.30\n",
            "Epoch     3, train loss 1.255681, train error 50.42,  val loss 1.249925, percent error 50.30\n",
            "Epoch     4, train loss 1.227799, train error 51.88,  val loss 1.236000, percent error 53.10\n",
            "Epoch     5, train loss 1.102319, train error 43.65,  val loss 1.114109, percent error 46.90\n",
            "Epoch     6, train loss 1.046292, train error 41.05,  val loss 1.066393, percent error 42.40\n",
            "Epoch     7, train loss 0.995549, train error 40.62,  val loss 1.003020, percent error 40.50\n",
            "Epoch     8, train loss 0.848466, train error 33.43,  val loss 0.871695, percent error 34.60\n",
            "Epoch     9, train loss 0.734058, train error 28.62,  val loss 0.787484, percent error 31.70\n",
            "Epoch    10, train loss 0.687732, train error 27.95,  val loss 0.745842, percent error 30.70\n",
            "Epoch    11, train loss 0.596603, train error 24.10,  val loss 0.651658, percent error 27.20\n",
            "Epoch    12, train loss 0.705451, train error 27.68,  val loss 0.743684, percent error 30.10\n",
            "Epoch    13, train loss 0.563509, train error 22.35,  val loss 0.629408, percent error 25.40\n",
            "Epoch    14, train loss 0.532206, train error 20.53,  val loss 0.588694, percent error 23.70\n",
            "Epoch    15, train loss 0.437902, train error 16.82,  val loss 0.508656, percent error 20.00\n",
            "Epoch    16, train loss 0.456257, train error 18.07,  val loss 0.525503, percent error 20.80\n",
            "Epoch    17, train loss 0.518657, train error 19.32,  val loss 0.598396, percent error 21.90\n",
            "Epoch    18, train loss 0.370753, train error 14.75,  val loss 0.502519, percent error 19.10\n",
            "Epoch    19, train loss 0.354146, train error 13.68,  val loss 0.470464, percent error 17.50\n",
            "Epoch    20, train loss 0.282797, train error 11.10,  val loss 0.418268, percent error 14.60\n",
            "Epoch    21, train loss 0.248331, train error 9.15,  val loss 0.406133, percent error 14.40\n",
            "Epoch    22, train loss 0.234742, train error 8.45,  val loss 0.405654, percent error 14.40\n",
            "Epoch    23, train loss 0.217520, train error 7.97,  val loss 0.374010, percent error 12.00\n",
            "Epoch    24, train loss 0.216294, train error 7.80,  val loss 0.384851, percent error 14.00\n",
            "Epoch    25, train loss 0.216559, train error 8.03,  val loss 0.408417, percent error 13.70\n",
            "Epoch    26, train loss 0.188624, train error 6.60,  val loss 0.384672, percent error 12.70\n",
            "Epoch    27, train loss 0.190193, train error 6.88,  val loss 0.383249, percent error 12.90\n",
            "Epoch    28, train loss 0.161785, train error 5.57,  val loss 0.358307, percent error 12.20\n",
            "Epoch    29, train loss 0.157785, train error 5.47,  val loss 0.346573, percent error 11.40\n",
            "Epoch    30, train loss 0.159096, train error 5.07,  val loss 0.343171, percent error 10.60\n",
            "Epoch    31, train loss 0.151258, train error 5.38,  val loss 0.391252, percent error 12.10\n",
            "Epoch    32, train loss 0.167136, train error 6.00,  val loss 0.385515, percent error 11.90\n",
            "Epoch    33, train loss 0.169360, train error 6.35,  val loss 0.410411, percent error 12.70\n",
            "Epoch    34, train loss 0.143667, train error 5.00,  val loss 0.376201, percent error 12.20\n",
            "Epoch    35, train loss 0.120066, train error 4.30,  val loss 0.346774, percent error 11.10\n",
            "Epoch    36, train loss 0.112567, train error 3.57,  val loss 0.355506, percent error 11.10\n",
            "Epoch    37, train loss 0.109036, train error 3.25,  val loss 0.318157, percent error 10.90\n",
            "Epoch    38, train loss 0.099661, train error 3.32,  val loss 0.355554, percent error 10.80\n",
            "Epoch    39, train loss 0.103351, train error 3.15,  val loss 0.355599, percent error 11.40\n",
            "Epoch    40, train loss 0.080758, train error 2.28,  val loss 0.342301, percent error 10.40\n",
            "Epoch    41, train loss 0.087954, train error 2.95,  val loss 0.357554, percent error 10.30\n",
            "Epoch    42, train loss 0.076890, train error 2.20,  val loss 0.350905, percent error 10.60\n",
            "Epoch    43, train loss 0.077960, train error 2.28,  val loss 0.349243, percent error 10.50\n",
            "Epoch    44, train loss 0.076188, train error 2.45,  val loss 0.354959, percent error 11.50\n",
            "Epoch    45, train loss 0.077049, train error 2.45,  val loss 0.365528, percent error 10.80\n",
            "Epoch    46, train loss 0.069785, train error 2.07,  val loss 0.350553, percent error 10.10\n",
            "Epoch    47, train loss 0.066269, train error 1.57,  val loss 0.346864, percent error 10.60\n",
            "Epoch    48, train loss 0.068963, train error 1.82,  val loss 0.349748, percent error 10.50\n",
            "Epoch    49, train loss 0.069084, train error 1.90,  val loss 0.360487, percent error 11.10\n",
            "Epoch    50, train loss 0.069885, train error 2.18,  val loss 0.361726, percent error 10.40\n",
            "Epoch    51, train loss 0.060030, train error 1.53,  val loss 0.346805, percent error 10.30\n",
            "Epoch    52, train loss 0.067612, train error 1.85,  val loss 0.362822, percent error 10.30\n",
            "Epoch    53, train loss 0.061052, train error 1.70,  val loss 0.366580, percent error 10.40\n",
            "Epoch    54, train loss 0.067068, train error 2.05,  val loss 0.368203, percent error 10.30\n",
            "Epoch    55, train loss 0.056682, train error 1.55,  val loss 0.371254, percent error 10.10\n",
            "Epoch    56, train loss 0.056020, train error 1.32,  val loss 0.365308, percent error 9.90\n",
            "Epoch    57, train loss 0.049838, train error 1.03,  val loss 0.363093, percent error 10.10\n",
            "Epoch    58, train loss 0.061381, train error 1.90,  val loss 0.387306, percent error 10.90\n",
            "Epoch    59, train loss 0.050313, train error 1.18,  val loss 0.375723, percent error 10.50\n",
            "Epoch    60, train loss 0.047243, train error 1.28,  val loss 0.377874, percent error 10.30\n",
            "Epoch    61, train loss 0.047453, train error 1.18,  val loss 0.377627, percent error 10.00\n",
            "Epoch    62, train loss 0.043719, train error 0.97,  val loss 0.366802, percent error 10.10\n",
            "Epoch    63, train loss 0.044273, train error 0.80,  val loss 0.378341, percent error 10.30\n",
            "Epoch    64, train loss 0.045475, train error 0.95,  val loss 0.386183, percent error 10.70\n",
            "Epoch    65, train loss 0.046244, train error 1.18,  val loss 0.384447, percent error 10.40\n",
            "Epoch    66, train loss 0.043925, train error 0.78,  val loss 0.384411, percent error 10.20\n",
            "Epoch    67, train loss 0.041704, train error 0.90,  val loss 0.379856, percent error 9.90\n",
            "Epoch    68, train loss 0.040921, train error 0.88,  val loss 0.378564, percent error 9.90\n",
            "Epoch    69, train loss 0.039848, train error 0.78,  val loss 0.379075, percent error 9.80\n",
            "Epoch    70, train loss 0.040015, train error 0.82,  val loss 0.381179, percent error 10.20\n",
            "Epoch    71, train loss 0.038490, train error 0.70,  val loss 0.381498, percent error 9.80\n",
            "Epoch    72, train loss 0.038683, train error 0.68,  val loss 0.381499, percent error 10.20\n",
            "Epoch    73, train loss 0.042638, train error 0.78,  val loss 0.392762, percent error 10.40\n",
            "Epoch    74, train loss 0.038392, train error 0.72,  val loss 0.381195, percent error 10.10\n",
            "Epoch    75, train loss 0.037141, train error 0.70,  val loss 0.383149, percent error 9.90\n",
            "Epoch    76, train loss 0.036822, train error 0.62,  val loss 0.386311, percent error 9.80\n",
            "Epoch    77, train loss 0.039094, train error 0.88,  val loss 0.389690, percent error 10.20\n",
            "Epoch    78, train loss 0.037977, train error 0.72,  val loss 0.384267, percent error 10.20\n",
            "Epoch    79, train loss 0.035783, train error 0.60,  val loss 0.388988, percent error 9.80\n",
            "Epoch    80, train loss 0.034767, train error 0.62,  val loss 0.387615, percent error 9.90\n",
            "Epoch    81, train loss 0.034553, train error 0.53,  val loss 0.389822, percent error 10.00\n",
            "Epoch    82, train loss 0.033892, train error 0.60,  val loss 0.392187, percent error 9.80\n",
            "Epoch    83, train loss 0.034013, train error 0.55,  val loss 0.391106, percent error 10.00\n",
            "Epoch    84, train loss 0.033635, train error 0.55,  val loss 0.391708, percent error 9.90\n",
            "Epoch    85, train loss 0.033457, train error 0.53,  val loss 0.393031, percent error 9.70\n",
            "Epoch    86, train loss 0.033378, train error 0.53,  val loss 0.390535, percent error 9.90\n",
            "Epoch    87, train loss 0.033647, train error 0.53,  val loss 0.398102, percent error 10.10\n",
            "Epoch    88, train loss 0.033009, train error 0.50,  val loss 0.392443, percent error 9.90\n",
            "Epoch    89, train loss 0.033342, train error 0.50,  val loss 0.395578, percent error 10.20\n",
            "Epoch    90, train loss 0.032499, train error 0.53,  val loss 0.394206, percent error 9.80\n",
            "Epoch    91, train loss 0.032696, train error 0.55,  val loss 0.396327, percent error 10.00\n",
            "Epoch    92, train loss 0.032298, train error 0.50,  val loss 0.398992, percent error 10.00\n",
            "Epoch    93, train loss 0.032157, train error 0.50,  val loss 0.396258, percent error 9.80\n",
            "Epoch    94, train loss 0.031944, train error 0.47,  val loss 0.398033, percent error 10.20\n",
            "Epoch    95, train loss 0.031952, train error 0.47,  val loss 0.396350, percent error 10.10\n",
            "Epoch    96, train loss 0.032111, train error 0.43,  val loss 0.402558, percent error 9.90\n",
            "Epoch    97, train loss 0.031912, train error 0.43,  val loss 0.402251, percent error 9.90\n",
            "Epoch    98, train loss 0.030919, train error 0.45,  val loss 0.400035, percent error 10.00\n",
            "Epoch    99, train loss 0.030638, train error 0.45,  val loss 0.400886, percent error 9.90\n"
          ]
        },
        {
          "output_type": "display_data",
          "data": {
            "text/plain": [
              "<Figure size 640x480 with 1 Axes>"
            ],
            "image/png": "[encoded data removed]"
          },
          "metadata": {}
        }
      ]
    },
    {
      "cell_type": "code",
      "source": [],
      "metadata": {
        "id": "mYEqfj-jeaUF"
      },
      "execution_count": null,
      "outputs": []
    }
  ]
}